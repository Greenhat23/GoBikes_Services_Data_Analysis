{
 "cells": [
  {
   "cell_type": "markdown",
   "metadata": {},
   "source": [
    "# Part I - (Ford GoBike System Data Visualization)\n",
    "## by Meutem Gervis D\n",
    "\n",
    "## Introduction\n",
    "> This data set includes information about individual rides made in a bike-sharing system covering the greater San Francisco Bay area.\n",
    "\n",
    "\n",
    "\n",
    "\n",
    "## Preliminary Wrangling\n"
   ]
  },
  {
   "cell_type": "code",
   "execution_count": 3,
   "metadata": {},
   "outputs": [],
   "source": [
    "# import all packages and set plots to be embedded inline\n",
    "import numpy as np\n",
    "import pandas as pd\n",
    "import matplotlib.pyplot as plt\n",
    "import seaborn as sb\n",
    "\n",
    "%matplotlib inline"
   ]
  },
  {
   "cell_type": "markdown",
   "metadata": {},
   "source": [
    "> Loading our dataset into a pandas dataframe."
   ]
  },
  {
   "cell_type": "code",
   "execution_count": 4,
   "metadata": {},
   "outputs": [
    {
     "data": {
      "text/html": [
       "<div>\n",
       "<style scoped>\n",
       "    .dataframe tbody tr th:only-of-type {\n",
       "        vertical-align: middle;\n",
       "    }\n",
       "\n",
       "    .dataframe tbody tr th {\n",
       "        vertical-align: top;\n",
       "    }\n",
       "\n",
       "    .dataframe thead th {\n",
       "        text-align: right;\n",
       "    }\n",
       "</style>\n",
       "<table border=\"1\" class=\"dataframe\">\n",
       "  <thead>\n",
       "    <tr style=\"text-align: right;\">\n",
       "      <th></th>\n",
       "      <th>duration_sec</th>\n",
       "      <th>start_time</th>\n",
       "      <th>end_time</th>\n",
       "      <th>start_station_id</th>\n",
       "      <th>start_station_name</th>\n",
       "      <th>start_station_latitude</th>\n",
       "      <th>start_station_longitude</th>\n",
       "      <th>end_station_id</th>\n",
       "      <th>end_station_name</th>\n",
       "      <th>end_station_latitude</th>\n",
       "      <th>end_station_longitude</th>\n",
       "      <th>bike_id</th>\n",
       "      <th>user_type</th>\n",
       "      <th>member_birth_year</th>\n",
       "      <th>member_gender</th>\n",
       "      <th>bike_share_for_all_trip</th>\n",
       "    </tr>\n",
       "  </thead>\n",
       "  <tbody>\n",
       "    <tr>\n",
       "      <th>0</th>\n",
       "      <td>52185</td>\n",
       "      <td>2019-02-28 17:32:10.1450</td>\n",
       "      <td>2019-03-01 08:01:55.9750</td>\n",
       "      <td>21.0</td>\n",
       "      <td>Montgomery St BART Station (Market St at 2nd St)</td>\n",
       "      <td>37.789625</td>\n",
       "      <td>-122.400811</td>\n",
       "      <td>13.0</td>\n",
       "      <td>Commercial St at Montgomery St</td>\n",
       "      <td>37.794231</td>\n",
       "      <td>-122.402923</td>\n",
       "      <td>4902</td>\n",
       "      <td>Customer</td>\n",
       "      <td>1984.0</td>\n",
       "      <td>Male</td>\n",
       "      <td>No</td>\n",
       "    </tr>\n",
       "    <tr>\n",
       "      <th>1</th>\n",
       "      <td>42521</td>\n",
       "      <td>2019-02-28 18:53:21.7890</td>\n",
       "      <td>2019-03-01 06:42:03.0560</td>\n",
       "      <td>23.0</td>\n",
       "      <td>The Embarcadero at Steuart St</td>\n",
       "      <td>37.791464</td>\n",
       "      <td>-122.391034</td>\n",
       "      <td>81.0</td>\n",
       "      <td>Berry St at 4th St</td>\n",
       "      <td>37.775880</td>\n",
       "      <td>-122.393170</td>\n",
       "      <td>2535</td>\n",
       "      <td>Customer</td>\n",
       "      <td>NaN</td>\n",
       "      <td>NaN</td>\n",
       "      <td>No</td>\n",
       "    </tr>\n",
       "    <tr>\n",
       "      <th>2</th>\n",
       "      <td>61854</td>\n",
       "      <td>2019-02-28 12:13:13.2180</td>\n",
       "      <td>2019-03-01 05:24:08.1460</td>\n",
       "      <td>86.0</td>\n",
       "      <td>Market St at Dolores St</td>\n",
       "      <td>37.769305</td>\n",
       "      <td>-122.426826</td>\n",
       "      <td>3.0</td>\n",
       "      <td>Powell St BART Station (Market St at 4th St)</td>\n",
       "      <td>37.786375</td>\n",
       "      <td>-122.404904</td>\n",
       "      <td>5905</td>\n",
       "      <td>Customer</td>\n",
       "      <td>1972.0</td>\n",
       "      <td>Male</td>\n",
       "      <td>No</td>\n",
       "    </tr>\n",
       "    <tr>\n",
       "      <th>3</th>\n",
       "      <td>36490</td>\n",
       "      <td>2019-02-28 17:54:26.0100</td>\n",
       "      <td>2019-03-01 04:02:36.8420</td>\n",
       "      <td>375.0</td>\n",
       "      <td>Grove St at Masonic Ave</td>\n",
       "      <td>37.774836</td>\n",
       "      <td>-122.446546</td>\n",
       "      <td>70.0</td>\n",
       "      <td>Central Ave at Fell St</td>\n",
       "      <td>37.773311</td>\n",
       "      <td>-122.444293</td>\n",
       "      <td>6638</td>\n",
       "      <td>Subscriber</td>\n",
       "      <td>1989.0</td>\n",
       "      <td>Other</td>\n",
       "      <td>No</td>\n",
       "    </tr>\n",
       "    <tr>\n",
       "      <th>4</th>\n",
       "      <td>1585</td>\n",
       "      <td>2019-02-28 23:54:18.5490</td>\n",
       "      <td>2019-03-01 00:20:44.0740</td>\n",
       "      <td>7.0</td>\n",
       "      <td>Frank H Ogawa Plaza</td>\n",
       "      <td>37.804562</td>\n",
       "      <td>-122.271738</td>\n",
       "      <td>222.0</td>\n",
       "      <td>10th Ave at E 15th St</td>\n",
       "      <td>37.792714</td>\n",
       "      <td>-122.248780</td>\n",
       "      <td>4898</td>\n",
       "      <td>Subscriber</td>\n",
       "      <td>1974.0</td>\n",
       "      <td>Male</td>\n",
       "      <td>Yes</td>\n",
       "    </tr>\n",
       "  </tbody>\n",
       "</table>\n",
       "</div>"
      ],
      "text/plain": [
       "   duration_sec                start_time                  end_time  \\\n",
       "0         52185  2019-02-28 17:32:10.1450  2019-03-01 08:01:55.9750   \n",
       "1         42521  2019-02-28 18:53:21.7890  2019-03-01 06:42:03.0560   \n",
       "2         61854  2019-02-28 12:13:13.2180  2019-03-01 05:24:08.1460   \n",
       "3         36490  2019-02-28 17:54:26.0100  2019-03-01 04:02:36.8420   \n",
       "4          1585  2019-02-28 23:54:18.5490  2019-03-01 00:20:44.0740   \n",
       "\n",
       "   start_station_id                                start_station_name  \\\n",
       "0              21.0  Montgomery St BART Station (Market St at 2nd St)   \n",
       "1              23.0                     The Embarcadero at Steuart St   \n",
       "2              86.0                           Market St at Dolores St   \n",
       "3             375.0                           Grove St at Masonic Ave   \n",
       "4               7.0                               Frank H Ogawa Plaza   \n",
       "\n",
       "   start_station_latitude  start_station_longitude  end_station_id  \\\n",
       "0               37.789625              -122.400811            13.0   \n",
       "1               37.791464              -122.391034            81.0   \n",
       "2               37.769305              -122.426826             3.0   \n",
       "3               37.774836              -122.446546            70.0   \n",
       "4               37.804562              -122.271738           222.0   \n",
       "\n",
       "                               end_station_name  end_station_latitude  \\\n",
       "0                Commercial St at Montgomery St             37.794231   \n",
       "1                            Berry St at 4th St             37.775880   \n",
       "2  Powell St BART Station (Market St at 4th St)             37.786375   \n",
       "3                        Central Ave at Fell St             37.773311   \n",
       "4                         10th Ave at E 15th St             37.792714   \n",
       "\n",
       "   end_station_longitude  bike_id   user_type  member_birth_year  \\\n",
       "0            -122.402923     4902    Customer             1984.0   \n",
       "1            -122.393170     2535    Customer                NaN   \n",
       "2            -122.404904     5905    Customer             1972.0   \n",
       "3            -122.444293     6638  Subscriber             1989.0   \n",
       "4            -122.248780     4898  Subscriber             1974.0   \n",
       "\n",
       "  member_gender bike_share_for_all_trip  \n",
       "0          Male                      No  \n",
       "1           NaN                      No  \n",
       "2          Male                      No  \n",
       "3         Other                      No  \n",
       "4          Male                     Yes  "
      ]
     },
     "execution_count": 4,
     "metadata": {},
     "output_type": "execute_result"
    }
   ],
   "source": [
    "df = pd.read_csv('201902-fordgobike-tripdata.csv')\n",
    "\n",
    "#taking a look at our dataset\n",
    "df.head()"
   ]
  },
  {
   "cell_type": "markdown",
   "metadata": {},
   "source": [
    "### Assessing the dataset\n"
   ]
  },
  {
   "cell_type": "code",
   "execution_count": 5,
   "metadata": {},
   "outputs": [
    {
     "name": "stdout",
     "output_type": "stream",
     "text": [
      "<class 'pandas.core.frame.DataFrame'>\n",
      "RangeIndex: 183412 entries, 0 to 183411\n",
      "Data columns (total 16 columns):\n",
      " #   Column                   Non-Null Count   Dtype  \n",
      "---  ------                   --------------   -----  \n",
      " 0   duration_sec             183412 non-null  int64  \n",
      " 1   start_time               183412 non-null  object \n",
      " 2   end_time                 183412 non-null  object \n",
      " 3   start_station_id         183215 non-null  float64\n",
      " 4   start_station_name       183215 non-null  object \n",
      " 5   start_station_latitude   183412 non-null  float64\n",
      " 6   start_station_longitude  183412 non-null  float64\n",
      " 7   end_station_id           183215 non-null  float64\n",
      " 8   end_station_name         183215 non-null  object \n",
      " 9   end_station_latitude     183412 non-null  float64\n",
      " 10  end_station_longitude    183412 non-null  float64\n",
      " 11  bike_id                  183412 non-null  int64  \n",
      " 12  user_type                183412 non-null  object \n",
      " 13  member_birth_year        175147 non-null  float64\n",
      " 14  member_gender            175147 non-null  object \n",
      " 15  bike_share_for_all_trip  183412 non-null  object \n",
      "dtypes: float64(7), int64(2), object(7)\n",
      "memory usage: 22.4+ MB\n"
     ]
    }
   ],
   "source": [
    "#Getting info on the dataset\n",
    "df.info()"
   ]
  },
  {
   "cell_type": "code",
   "execution_count": 6,
   "metadata": {},
   "outputs": [
    {
     "data": {
      "text/html": [
       "<div>\n",
       "<style scoped>\n",
       "    .dataframe tbody tr th:only-of-type {\n",
       "        vertical-align: middle;\n",
       "    }\n",
       "\n",
       "    .dataframe tbody tr th {\n",
       "        vertical-align: top;\n",
       "    }\n",
       "\n",
       "    .dataframe thead th {\n",
       "        text-align: right;\n",
       "    }\n",
       "</style>\n",
       "<table border=\"1\" class=\"dataframe\">\n",
       "  <thead>\n",
       "    <tr style=\"text-align: right;\">\n",
       "      <th></th>\n",
       "      <th>duration_sec</th>\n",
       "      <th>start_station_id</th>\n",
       "      <th>start_station_latitude</th>\n",
       "      <th>start_station_longitude</th>\n",
       "      <th>end_station_id</th>\n",
       "      <th>end_station_latitude</th>\n",
       "      <th>end_station_longitude</th>\n",
       "      <th>bike_id</th>\n",
       "      <th>member_birth_year</th>\n",
       "    </tr>\n",
       "  </thead>\n",
       "  <tbody>\n",
       "    <tr>\n",
       "      <th>count</th>\n",
       "      <td>183412.000000</td>\n",
       "      <td>183215.000000</td>\n",
       "      <td>183412.000000</td>\n",
       "      <td>183412.000000</td>\n",
       "      <td>183215.000000</td>\n",
       "      <td>183412.000000</td>\n",
       "      <td>183412.000000</td>\n",
       "      <td>183412.000000</td>\n",
       "      <td>175147.000000</td>\n",
       "    </tr>\n",
       "    <tr>\n",
       "      <th>mean</th>\n",
       "      <td>726.078435</td>\n",
       "      <td>138.590427</td>\n",
       "      <td>37.771223</td>\n",
       "      <td>-122.352664</td>\n",
       "      <td>136.249123</td>\n",
       "      <td>37.771427</td>\n",
       "      <td>-122.352250</td>\n",
       "      <td>4472.906375</td>\n",
       "      <td>1984.806437</td>\n",
       "    </tr>\n",
       "    <tr>\n",
       "      <th>std</th>\n",
       "      <td>1794.389780</td>\n",
       "      <td>111.778864</td>\n",
       "      <td>0.099581</td>\n",
       "      <td>0.117097</td>\n",
       "      <td>111.515131</td>\n",
       "      <td>0.099490</td>\n",
       "      <td>0.116673</td>\n",
       "      <td>1664.383394</td>\n",
       "      <td>10.116689</td>\n",
       "    </tr>\n",
       "    <tr>\n",
       "      <th>min</th>\n",
       "      <td>61.000000</td>\n",
       "      <td>3.000000</td>\n",
       "      <td>37.317298</td>\n",
       "      <td>-122.453704</td>\n",
       "      <td>3.000000</td>\n",
       "      <td>37.317298</td>\n",
       "      <td>-122.453704</td>\n",
       "      <td>11.000000</td>\n",
       "      <td>1878.000000</td>\n",
       "    </tr>\n",
       "    <tr>\n",
       "      <th>25%</th>\n",
       "      <td>325.000000</td>\n",
       "      <td>47.000000</td>\n",
       "      <td>37.770083</td>\n",
       "      <td>-122.412408</td>\n",
       "      <td>44.000000</td>\n",
       "      <td>37.770407</td>\n",
       "      <td>-122.411726</td>\n",
       "      <td>3777.000000</td>\n",
       "      <td>1980.000000</td>\n",
       "    </tr>\n",
       "    <tr>\n",
       "      <th>50%</th>\n",
       "      <td>514.000000</td>\n",
       "      <td>104.000000</td>\n",
       "      <td>37.780760</td>\n",
       "      <td>-122.398285</td>\n",
       "      <td>100.000000</td>\n",
       "      <td>37.781010</td>\n",
       "      <td>-122.398279</td>\n",
       "      <td>4958.000000</td>\n",
       "      <td>1987.000000</td>\n",
       "    </tr>\n",
       "    <tr>\n",
       "      <th>75%</th>\n",
       "      <td>796.000000</td>\n",
       "      <td>239.000000</td>\n",
       "      <td>37.797280</td>\n",
       "      <td>-122.286533</td>\n",
       "      <td>235.000000</td>\n",
       "      <td>37.797320</td>\n",
       "      <td>-122.288045</td>\n",
       "      <td>5502.000000</td>\n",
       "      <td>1992.000000</td>\n",
       "    </tr>\n",
       "    <tr>\n",
       "      <th>max</th>\n",
       "      <td>85444.000000</td>\n",
       "      <td>398.000000</td>\n",
       "      <td>37.880222</td>\n",
       "      <td>-121.874119</td>\n",
       "      <td>398.000000</td>\n",
       "      <td>37.880222</td>\n",
       "      <td>-121.874119</td>\n",
       "      <td>6645.000000</td>\n",
       "      <td>2001.000000</td>\n",
       "    </tr>\n",
       "  </tbody>\n",
       "</table>\n",
       "</div>"
      ],
      "text/plain": [
       "        duration_sec  start_station_id  start_station_latitude  \\\n",
       "count  183412.000000     183215.000000           183412.000000   \n",
       "mean      726.078435        138.590427               37.771223   \n",
       "std      1794.389780        111.778864                0.099581   \n",
       "min        61.000000          3.000000               37.317298   \n",
       "25%       325.000000         47.000000               37.770083   \n",
       "50%       514.000000        104.000000               37.780760   \n",
       "75%       796.000000        239.000000               37.797280   \n",
       "max     85444.000000        398.000000               37.880222   \n",
       "\n",
       "       start_station_longitude  end_station_id  end_station_latitude  \\\n",
       "count            183412.000000   183215.000000         183412.000000   \n",
       "mean               -122.352664      136.249123             37.771427   \n",
       "std                   0.117097      111.515131              0.099490   \n",
       "min                -122.453704        3.000000             37.317298   \n",
       "25%                -122.412408       44.000000             37.770407   \n",
       "50%                -122.398285      100.000000             37.781010   \n",
       "75%                -122.286533      235.000000             37.797320   \n",
       "max                -121.874119      398.000000             37.880222   \n",
       "\n",
       "       end_station_longitude        bike_id  member_birth_year  \n",
       "count          183412.000000  183412.000000      175147.000000  \n",
       "mean             -122.352250    4472.906375        1984.806437  \n",
       "std                 0.116673    1664.383394          10.116689  \n",
       "min              -122.453704      11.000000        1878.000000  \n",
       "25%              -122.411726    3777.000000        1980.000000  \n",
       "50%              -122.398279    4958.000000        1987.000000  \n",
       "75%              -122.288045    5502.000000        1992.000000  \n",
       "max              -121.874119    6645.000000        2001.000000  "
      ]
     },
     "execution_count": 6,
     "metadata": {},
     "output_type": "execute_result"
    }
   ],
   "source": [
    "#Getting statistic description of our dataset\n",
    "df.describe()\n",
    " "
   ]
  },
  {
   "cell_type": "code",
   "execution_count": 7,
   "metadata": {},
   "outputs": [
    {
     "data": {
      "text/plain": [
       "0"
      ]
     },
     "execution_count": 7,
     "metadata": {},
     "output_type": "execute_result"
    }
   ],
   "source": [
    "#Checking duplicates\n",
    "df.duplicated().sum()"
   ]
  },
  {
   "cell_type": "markdown",
   "metadata": {},
   "source": [
    ">From the above assessment it shows that we have some few quality issues\n",
    ">* datatype of start_time and end_time is object instead of datetime \n",
    ">* NaN values in member_gender\n",
    ">* NaN values in member_birth_year\n",
    ">\n",
    ">In addition to these we will be removing the following columns as it won't be needed in our analysis:\n",
    ">* start_station_latitude\t\n",
    ">* start_station_longitude\n",
    ">* end_station_latitude\t\n",
    ">* end_station_longitude\n",
    ">* bike_id\n",
    ">\n",
    ">We will also create new columns for member_age, weekday and time.\n"
   ]
  },
  {
   "cell_type": "markdown",
   "metadata": {},
   "source": [
    "### Data Cleaning"
   ]
  },
  {
   "cell_type": "code",
   "execution_count": 8,
   "metadata": {},
   "outputs": [],
   "source": [
    "#Make a copy of dataset for cleanong\n",
    "df_copy = df.copy()"
   ]
  },
  {
   "cell_type": "markdown",
   "metadata": {},
   "source": [
    "#### Issue 1\n",
    ">Erroneous datatypes and NaN values.\n",
    "#### Define:\n",
    ">We shall convert start_time and end_time to date_time using pandas to_datetime.\n",
    ">\n",
    ">We shall also convert, member_birth_year to int.\n",
    ">\n",
    ">we shall convert member_gender and user_type to categorical datatype.\n",
    "#### Code"
   ]
  },
  {
   "cell_type": "code",
   "execution_count": 9,
   "metadata": {},
   "outputs": [],
   "source": [
    "#changing type to datetime for start_time and end_time\n",
    "df_copy.start_time = pd.to_datetime(df_copy.start_time)\n",
    "df_copy.end_time = pd.to_datetime(df_copy.end_time)\n",
    "\n",
    "#removing NaN in member_gender and member_birth_year\n",
    "#selecting NaN rows\n",
    "cond1 = df_copy.member_gender.isnull()\n",
    "#dropping them\n",
    "df_copy = df_copy.loc[~cond1, :]\n",
    "\n",
    "cond2 = df_copy.member_birth_year.isnull()\n",
    "df_copy = df_copy.loc[~cond2, :]\n",
    "\n",
    "#changing type of member_birth_year to int64\n",
    "df_copy.member_birth_year = df_copy.member_birth_year.astype('int64')\n",
    "\n",
    "#changing member_gender and user type to categorical types\n",
    "\n",
    "var_dict = {'user_type': ['Subscriber', 'Customer'],\n",
    "                    'member_gender': ['Male', 'Female', 'Other']}\n",
    "\n",
    "for var in var_dict:\n",
    "    c_var = pd.api.types.CategoricalDtype(categories = var_dict[var])\n",
    "    df_copy[var] = df_copy[var].astype(c_var)\n"
   ]
  },
  {
   "cell_type": "code",
   "execution_count": 10,
   "metadata": {},
   "outputs": [
    {
     "name": "stdout",
     "output_type": "stream",
     "text": [
      "<class 'pandas.core.frame.DataFrame'>\n",
      "Int64Index: 175147 entries, 0 to 183411\n",
      "Data columns (total 16 columns):\n",
      " #   Column                   Non-Null Count   Dtype         \n",
      "---  ------                   --------------   -----         \n",
      " 0   duration_sec             175147 non-null  int64         \n",
      " 1   start_time               175147 non-null  datetime64[ns]\n",
      " 2   end_time                 175147 non-null  datetime64[ns]\n",
      " 3   start_station_id         174952 non-null  float64       \n",
      " 4   start_station_name       174952 non-null  object        \n",
      " 5   start_station_latitude   175147 non-null  float64       \n",
      " 6   start_station_longitude  175147 non-null  float64       \n",
      " 7   end_station_id           174952 non-null  float64       \n",
      " 8   end_station_name         174952 non-null  object        \n",
      " 9   end_station_latitude     175147 non-null  float64       \n",
      " 10  end_station_longitude    175147 non-null  float64       \n",
      " 11  bike_id                  175147 non-null  int64         \n",
      " 12  user_type                175147 non-null  category      \n",
      " 13  member_birth_year        175147 non-null  int64         \n",
      " 14  member_gender            175147 non-null  category      \n",
      " 15  bike_share_for_all_trip  175147 non-null  object        \n",
      "dtypes: category(2), datetime64[ns](2), float64(6), int64(3), object(3)\n",
      "memory usage: 20.4+ MB\n"
     ]
    }
   ],
   "source": [
    "#Check if convertions have been done\n",
    "df_copy.info()"
   ]
  },
  {
   "cell_type": "code",
   "execution_count": 11,
   "metadata": {},
   "outputs": [],
   "source": [
    "#reseting index\n",
    "df_copy.reset_index(inplace=True, drop = True)"
   ]
  },
  {
   "cell_type": "markdown",
   "metadata": {},
   "source": [
    "#### Issue 2\n",
    ">Unnecessary columns\n",
    "#### Define\n",
    ">Using the drop function we will drop all columns not necessary for our analysis\n",
    "#### Code"
   ]
  },
  {
   "cell_type": "code",
   "execution_count": 12,
   "metadata": {},
   "outputs": [],
   "source": [
    "df_copy.drop(['start_station_latitude','start_station_longitude', 'end_station_latitude', 'end_station_longitude','bike_id'], axis=1, inplace=True)"
   ]
  },
  {
   "cell_type": "code",
   "execution_count": 13,
   "metadata": {},
   "outputs": [
    {
     "data": {
      "text/plain": [
       "Index(['duration_sec', 'start_time', 'end_time', 'start_station_id',\n",
       "       'start_station_name', 'end_station_id', 'end_station_name', 'user_type',\n",
       "       'member_birth_year', 'member_gender', 'bike_share_for_all_trip'],\n",
       "      dtype='object')"
      ]
     },
     "execution_count": 13,
     "metadata": {},
     "output_type": "execute_result"
    }
   ],
   "source": [
    "#check drop\n",
    "df_copy.columns\n"
   ]
  },
  {
   "cell_type": "markdown",
   "metadata": {},
   "source": [
    "#### Issue 3\n",
    ">Create new columns for member_age and weekday\n",
    "#### Define\n",
    ">we will create the member_age column by subtracting the member_birth_year from 2019\n",
    ">\n",
    ">we will then drop member_birth_year\n",
    ">\n",
    ">We will create the weekday column from the start_time column then convert it to an ordered categorical type.\n",
    ">\n",
    ">we will create time column from start_time.\n",
    "#### Code\n"
   ]
  },
  {
   "cell_type": "code",
   "execution_count": 14,
   "metadata": {
    "scrolled": true
   },
   "outputs": [
    {
     "data": {
      "text/html": [
       "<div>\n",
       "<style scoped>\n",
       "    .dataframe tbody tr th:only-of-type {\n",
       "        vertical-align: middle;\n",
       "    }\n",
       "\n",
       "    .dataframe tbody tr th {\n",
       "        vertical-align: top;\n",
       "    }\n",
       "\n",
       "    .dataframe thead th {\n",
       "        text-align: right;\n",
       "    }\n",
       "</style>\n",
       "<table border=\"1\" class=\"dataframe\">\n",
       "  <thead>\n",
       "    <tr style=\"text-align: right;\">\n",
       "      <th></th>\n",
       "      <th>duration_sec</th>\n",
       "      <th>start_time</th>\n",
       "      <th>end_time</th>\n",
       "      <th>start_station_id</th>\n",
       "      <th>start_station_name</th>\n",
       "      <th>end_station_id</th>\n",
       "      <th>end_station_name</th>\n",
       "      <th>user_type</th>\n",
       "      <th>member_gender</th>\n",
       "      <th>bike_share_for_all_trip</th>\n",
       "      <th>member_age</th>\n",
       "      <th>weekday</th>\n",
       "    </tr>\n",
       "  </thead>\n",
       "  <tbody>\n",
       "    <tr>\n",
       "      <th>91830</th>\n",
       "      <td>595</td>\n",
       "      <td>2019-02-15 11:02:06.113</td>\n",
       "      <td>2019-02-15 11:12:02.009</td>\n",
       "      <td>274.0</td>\n",
       "      <td>Oregon St at Adeline St</td>\n",
       "      <td>189.0</td>\n",
       "      <td>Genoa St at 55th St</td>\n",
       "      <td>Subscriber</td>\n",
       "      <td>Male</td>\n",
       "      <td>No</td>\n",
       "      <td>45</td>\n",
       "      <td>Friday</td>\n",
       "    </tr>\n",
       "    <tr>\n",
       "      <th>54882</th>\n",
       "      <td>1205</td>\n",
       "      <td>2019-02-21 08:10:51.780</td>\n",
       "      <td>2019-02-21 08:30:57.525</td>\n",
       "      <td>129.0</td>\n",
       "      <td>Harrison St at 20th St</td>\n",
       "      <td>50.0</td>\n",
       "      <td>2nd St at Townsend St</td>\n",
       "      <td>Subscriber</td>\n",
       "      <td>Female</td>\n",
       "      <td>No</td>\n",
       "      <td>33</td>\n",
       "      <td>Thursday</td>\n",
       "    </tr>\n",
       "    <tr>\n",
       "      <th>155402</th>\n",
       "      <td>374</td>\n",
       "      <td>2019-02-05 10:40:02.556</td>\n",
       "      <td>2019-02-05 10:46:17.191</td>\n",
       "      <td>134.0</td>\n",
       "      <td>Valencia St at 24th St</td>\n",
       "      <td>109.0</td>\n",
       "      <td>17th St at Valencia St</td>\n",
       "      <td>Subscriber</td>\n",
       "      <td>Female</td>\n",
       "      <td>No</td>\n",
       "      <td>34</td>\n",
       "      <td>Tuesday</td>\n",
       "    </tr>\n",
       "    <tr>\n",
       "      <th>146588</th>\n",
       "      <td>746</td>\n",
       "      <td>2019-02-06 12:30:54.578</td>\n",
       "      <td>2019-02-06 12:43:21.221</td>\n",
       "      <td>370.0</td>\n",
       "      <td>Jones St at Post St</td>\n",
       "      <td>368.0</td>\n",
       "      <td>Myrtle St at Polk St</td>\n",
       "      <td>Subscriber</td>\n",
       "      <td>Male</td>\n",
       "      <td>No</td>\n",
       "      <td>39</td>\n",
       "      <td>Wednesday</td>\n",
       "    </tr>\n",
       "    <tr>\n",
       "      <th>57142</th>\n",
       "      <td>608</td>\n",
       "      <td>2019-02-20 19:43:47.082</td>\n",
       "      <td>2019-02-20 19:53:56.002</td>\n",
       "      <td>124.0</td>\n",
       "      <td>19th St at Florida St</td>\n",
       "      <td>58.0</td>\n",
       "      <td>Market St at 10th St</td>\n",
       "      <td>Subscriber</td>\n",
       "      <td>Male</td>\n",
       "      <td>No</td>\n",
       "      <td>27</td>\n",
       "      <td>Wednesday</td>\n",
       "    </tr>\n",
       "  </tbody>\n",
       "</table>\n",
       "</div>"
      ],
      "text/plain": [
       "        duration_sec              start_time                end_time  \\\n",
       "91830            595 2019-02-15 11:02:06.113 2019-02-15 11:12:02.009   \n",
       "54882           1205 2019-02-21 08:10:51.780 2019-02-21 08:30:57.525   \n",
       "155402           374 2019-02-05 10:40:02.556 2019-02-05 10:46:17.191   \n",
       "146588           746 2019-02-06 12:30:54.578 2019-02-06 12:43:21.221   \n",
       "57142            608 2019-02-20 19:43:47.082 2019-02-20 19:53:56.002   \n",
       "\n",
       "        start_station_id       start_station_name  end_station_id  \\\n",
       "91830              274.0  Oregon St at Adeline St           189.0   \n",
       "54882              129.0   Harrison St at 20th St            50.0   \n",
       "155402             134.0   Valencia St at 24th St           109.0   \n",
       "146588             370.0      Jones St at Post St           368.0   \n",
       "57142              124.0    19th St at Florida St            58.0   \n",
       "\n",
       "              end_station_name   user_type member_gender  \\\n",
       "91830      Genoa St at 55th St  Subscriber          Male   \n",
       "54882    2nd St at Townsend St  Subscriber        Female   \n",
       "155402  17th St at Valencia St  Subscriber        Female   \n",
       "146588    Myrtle St at Polk St  Subscriber          Male   \n",
       "57142     Market St at 10th St  Subscriber          Male   \n",
       "\n",
       "       bike_share_for_all_trip  member_age    weekday  \n",
       "91830                       No          45     Friday  \n",
       "54882                       No          33   Thursday  \n",
       "155402                      No          34    Tuesday  \n",
       "146588                      No          39  Wednesday  \n",
       "57142                       No          27  Wednesday  "
      ]
     },
     "execution_count": 14,
     "metadata": {},
     "output_type": "execute_result"
    }
   ],
   "source": [
    "#create member_age column\n",
    "df_copy['member_age'] = 2019 - df_copy.member_birth_year\n",
    "\n",
    "#drop member_birth_year\n",
    "df_copy.drop(['member_birth_year'], axis=1, inplace=True)\n",
    "\n",
    "#create weekday column\n",
    "df_copy['weekday'] = df_copy.start_time.dt.strftime(\"%A\")\n",
    "\n",
    "#taking a look at the new columns\n",
    "df_copy.sample(5)"
   ]
  },
  {
   "cell_type": "code",
   "execution_count": 15,
   "metadata": {},
   "outputs": [],
   "source": [
    "# convert weekday into ordered categorical types\n",
    "ordinal_var_dict = ['Monday','Tuesday', 'Wednesday', 'Thursday', 'Friday', 'Saturday', 'Sunday']\n",
    "ordered_var = pd.api.types.CategoricalDtype(ordered = True,\n",
    "                                                categories = ordinal_var_dict)\n",
    "df_copy['weekday'] = df_copy['weekday'].astype(ordered_var)"
   ]
  },
  {
   "cell_type": "code",
   "execution_count": 16,
   "metadata": {},
   "outputs": [
    {
     "name": "stdout",
     "output_type": "stream",
     "text": [
      "<class 'pandas.core.frame.DataFrame'>\n",
      "RangeIndex: 175147 entries, 0 to 175146\n",
      "Data columns (total 13 columns):\n",
      " #   Column                   Non-Null Count   Dtype         \n",
      "---  ------                   --------------   -----         \n",
      " 0   duration_sec             175147 non-null  int64         \n",
      " 1   start_time               175147 non-null  datetime64[ns]\n",
      " 2   end_time                 175147 non-null  datetime64[ns]\n",
      " 3   start_station_id         174952 non-null  float64       \n",
      " 4   start_station_name       174952 non-null  object        \n",
      " 5   end_station_id           174952 non-null  float64       \n",
      " 6   end_station_name         174952 non-null  object        \n",
      " 7   user_type                175147 non-null  category      \n",
      " 8   member_gender            175147 non-null  category      \n",
      " 9   bike_share_for_all_trip  175147 non-null  object        \n",
      " 10  member_age               175147 non-null  int64         \n",
      " 11  weekday                  175147 non-null  category      \n",
      " 12  time                     175147 non-null  int64         \n",
      "dtypes: category(3), datetime64[ns](2), float64(2), int64(3), object(3)\n",
      "memory usage: 13.9+ MB\n"
     ]
    }
   ],
   "source": [
    "#create time column\n",
    "df_copy['time'] = df_copy.start_time.dt.hour\n",
    "\n",
    "#checking info\n",
    "df_copy.info()"
   ]
  },
  {
   "cell_type": "markdown",
   "metadata": {},
   "source": [
    "### Storing Data\n",
    ">We will now save our clean dataset in a csv file called `go_bikes_clean.csv`"
   ]
  },
  {
   "cell_type": "code",
   "execution_count": 17,
   "metadata": {},
   "outputs": [],
   "source": [
    "df_copy.to_csv('go_bikes_clean.csv', index=False, encoding='utf-8')"
   ]
  },
  {
   "cell_type": "markdown",
   "metadata": {},
   "source": [
    "### What is the structure of your dataset?\n",
    "\n",
    ">   The dataset has 175147 entries with 13 features namely;\n",
    ">- duration sec\n",
    ">- start time\n",
    ">- end time\n",
    ">- start station id\n",
    ">- start station name\n",
    ">- end station id\n",
    ">- end station name\n",
    ">- user type\n",
    ">- member gender\n",
    ">- bike share for all trip\n",
    ">- member age\n",
    ">- weekday\n",
    ">- time\n",
    "> Of these, member age, weekday and time are additional variables that were derived and isn't part of the original dataset.\n",
    "\n",
    "### What is/are the main feature(s) of interest in your dataset?\n",
    "\n",
    "> Our interest here is to understand how customers and subscribers make use of the service in terms of duration, age,gender and frequency of use and most importantly the user's behavior.\n",
    "\n",
    "### What features in the dataset do you think will help support your investigation into your feature(s) of interest?\n",
    "\n",
    "> Duration of ride, member_gender and age, time and weekdays are some of the key features that will help us better underdstand our customers and subscriber behavior as well as the demographics of the entire dataset.\n",
    "\n"
   ]
  },
  {
   "cell_type": "markdown",
   "metadata": {},
   "source": [
    "\n",
    "\n",
    "## Univariate Exploration\n",
    "\n",
    "> We will start by looking our user distribution."
   ]
  },
  {
   "cell_type": "code",
   "execution_count": 18,
   "metadata": {},
   "outputs": [
    {
     "data": {
      "image/png": "[encoded data removed]",
      "text/plain": [
       "<Figure size 720x360 with 1 Axes>"
      ]
     },
     "metadata": {
      "needs_background": "light"
     },
     "output_type": "display_data"
    }
   ],
   "source": [
    "# Generating a master dataframe for our exploration\n",
    "go_bikes_master = df_copy.copy()\n",
    "\n",
    "# creating plot\n",
    "fig, ax = plt.subplots(figsize = (10,5))\n",
    "base_color = sb.color_palette()[0]\n",
    "sb.countplot(data = go_bikes_master, x = 'user_type', color = base_color, order = go_bikes_master['user_type'].value_counts().index)\n",
    "plt.ylabel('proportion');"
   ]
  },
  {
   "cell_type": "markdown",
   "metadata": {},
   "source": [
    "\n",
    "\n",
    "> From the above it shows most of our users are subscribers. We can further make our visualisation more informative by simply displaying in terms of percentages."
   ]
  },
  {
   "cell_type": "code",
   "execution_count": 19,
   "metadata": {},
   "outputs": [
    {
     "data": {
      "image/png": "[encoded data removed]",
      "text/plain": [
       "<Figure size 720x360 with 1 Axes>"
      ]
     },
     "metadata": {
      "needs_background": "light"
     },
     "output_type": "display_data"
    }
   ],
   "source": [
    "# adding percentages to each bar\n",
    "fig, ax = plt.subplots(figsize = (10,5))\n",
    "base_color = sb.color_palette()[0]\n",
    "\n",
    "sb.countplot(x = \"user_type\", data = go_bikes_master, \n",
    "              order = go_bikes_master['user_type'].value_counts().index,\n",
    "              color = base_color)\n",
    "\n",
    "# Calculate % for each user types \n",
    "perc_list = []\n",
    "type_sum = go_bikes_master['user_type'].value_counts().to_list()\n",
    "total_sum = go_bikes_master.shape[0]\n",
    "for i in range(0,len(type_sum)):\n",
    "    percent = int(round(100 * type_sum[i] / total_sum))\n",
    "    perc_list.append(percent) \n",
    "# Annotate bars\n",
    "i=0\n",
    "for p in ax.patches:\n",
    "    ax.annotate('{:.0f}%'.format(perc_list[i]), \n",
    "                (p.get_x()+p.get_width()/2, p.get_height()), \n",
    "                ha=\"center\", va=\"bottom\", color='black', size=13)\n",
    "    i+=1\n",
    "plt.ylim([0, 170000])\n",
    "cur_axes = plt.gca()\n",
    "cur_axes.axes.get_yaxis().set_visible(False)\n",
    "plt.xlabel(\"\")\n",
    "sb.despine(fig, left = True);"
   ]
  },
  {
   "cell_type": "markdown",
   "metadata": {},
   "source": [
    ">So we can see now that 91% of our users have a subscription.\n",
    ">\n",
    ">Now we shall look at one of the main feature of interest, duration_sec, which helps describe the behaviour of users"
   ]
  },
  {
   "cell_type": "code",
   "execution_count": 20,
   "metadata": {},
   "outputs": [
    {
     "data": {
      "image/png": "[encoded data removed]",
      "text/plain": [
       "<Figure size 720x360 with 1 Axes>"
      ]
     },
     "metadata": {
      "needs_background": "light"
     },
     "output_type": "display_data"
    }
   ],
   "source": [
    "# standard-scaled distribution plot of duration of use\n",
    "\n",
    "binsize = 60\n",
    "bins = np.arange(61, go_bikes_master['duration_sec'].max()+binsize, binsize)\n",
    "\n",
    "plt.figure(figsize=[10, 5])\n",
    "plt.hist(data = go_bikes_master, x = 'duration_sec', bins = bins)\n",
    "plt.xlabel('duration (s)')\n",
    "plt.ylabel('Count')\n",
    "plt.show()"
   ]
  },
  {
   "cell_type": "markdown",
   "metadata": {},
   "source": [
    "> The distribution is highly skewed to the right. hence we will use a log scale"
   ]
  },
  {
   "cell_type": "code",
   "execution_count": 21,
   "metadata": {},
   "outputs": [
    {
     "data": {
      "image/png": "[encoded data removed]",
      "text/plain": [
       "<Figure size 720x360 with 1 Axes>"
      ]
     },
     "metadata": {
      "needs_background": "light"
     },
     "output_type": "display_data"
    }
   ],
   "source": [
    "# there is a very long tail in the distribution, so let's put it on a log scale \n",
    "log_binsize = 0.03\n",
    "bins = 10 ** np.arange(1.7, np.log10(go_bikes_master['duration_sec'].max())+log_binsize, log_binsize)\n",
    "tick = [50, 100, 200, 500, 1e3, 2e3, 5e3, 1e4, 2e4, 5e4, 1e5]\n",
    "label = [50, 100, 200, 500, '1k', '2k', '5k', '10k', '20k','50k', '100k']\n",
    "\n",
    "plt.figure(figsize=[10, 5])\n",
    "plt.hist(data = go_bikes_master, x = 'duration_sec', bins = bins)\n",
    "plt.xscale('log')\n",
    "plt.xticks(tick, label)\n",
    "plt.xlabel('duration (s)')\n",
    "plt.show()"
   ]
  },
  {
   "cell_type": "markdown",
   "metadata": {},
   "source": [
    "> Usage duration has a unimodal distribution, with mode laying between 400 and 700 seconds, and most trips lasting from 120 seconds to 2000 seconds. number of users drop sharply above 2000 seconds.\n",
    "\n",
    "> Let us now look at the gender distribution to know which gender uses the service more"
   ]
  },
  {
   "cell_type": "code",
   "execution_count": 22,
   "metadata": {},
   "outputs": [],
   "source": [
    "# Compute proportion\n",
    "gender_sum = go_bikes_master['member_gender'].value_counts().sum()\n",
    "gender_counts = go_bikes_master['member_gender'].value_counts()\n",
    "max_gend_count = gender_counts[0]\n",
    "max_prop = max_gend_count/gender_sum"
   ]
  },
  {
   "cell_type": "code",
   "execution_count": 23,
   "metadata": {},
   "outputs": [
    {
     "data": {
      "image/png": "[encoded data removed]",
      "text/plain": [
       "<Figure size 720x360 with 1 Axes>"
      ]
     },
     "metadata": {
      "needs_background": "light"
     },
     "output_type": "display_data"
    }
   ],
   "source": [
    "# establish tick locations and create plot\n",
    "fig, ax = plt.subplots(figsize = (10,5))\n",
    "tick_props = np.arange(0, max_prop +0.3, 0.1)\n",
    "tick_names = [f'{int(v*100)}%' for v in tick_props]\n",
    "ax = sb.countplot(data = go_bikes_master, x = 'member_gender', color = base_color)\n",
    "plt.yticks(tick_props * gender_sum, tick_names)\n",
    "plt.ylabel('Proportion');"
   ]
  },
  {
   "cell_type": "markdown",
   "metadata": {},
   "source": [
    ">From the above visualisation, we see that about 75% of the users are males, about 23% are females and about 2% are others.\n",
    ">\n",
    ">Now we shall check the age distribution, people of what age mostly use the service?"
   ]
  },
  {
   "cell_type": "code",
   "execution_count": 24,
   "metadata": {},
   "outputs": [
    {
     "data": {
      "image/png": "[encoded data removed]",
      "text/plain": [
       "<Figure size 864x432 with 1 Axes>"
      ]
     },
     "metadata": {
      "needs_background": "light"
     },
     "output_type": "display_data"
    }
   ],
   "source": [
    "# count plot of member_age\n",
    "plt.figure(figsize=[12,6])\n",
    "\n",
    "sb.countplot(data = go_bikes_master, x = 'member_age', color = base_color)\n",
    "plt.xticks(rotation=90)\n",
    "\n",
    "plt.show()"
   ]
  },
  {
   "cell_type": "markdown",
   "metadata": {},
   "source": [
    ">From the above distributions it shows that the majority of users are between the ages of 24 - 35.\n",
    "also we can see that there are records for people above 80 years, we shall consider these as outliers.\n",
    ">\n",
    ">We shall now look at the time of the day and day distribution, when do users mostly make use of the service? "
   ]
  },
  {
   "cell_type": "code",
   "execution_count": 25,
   "metadata": {},
   "outputs": [
    {
     "data": {
      "image/png": "[encoded data removed]",
      "text/plain": [
       "<Figure size 720x576 with 2 Axes>"
      ]
     },
     "metadata": {
      "needs_background": "light"
     },
     "output_type": "display_data"
    }
   ],
   "source": [
    "fig, ax = plt.subplots(nrows=2, figsize = [10, 8])\n",
    "\n",
    "ax1 = sb.countplot(data = go_bikes_master, x = 'time', color = base_color, ax = ax[0])\n",
    "sb.countplot(data = go_bikes_master, x = 'weekday', color = base_color, ax = ax[1])\n",
    "\n",
    "plt.show()"
   ]
  },
  {
   "cell_type": "markdown",
   "metadata": {},
   "source": [
    ">From the above it is clear the services is mostly use during the weekdays than weekends with thursday having the highest record. in addition, 8AM and 5PM also show a high number of use at that time. and the service is been made use of more at the hours of 7-9 in the morning and 4-7 in the evening.\n",
    ">\n",
    "> We will now correct some minor issues in our variables of interest, such as removing outliers and also correcting the datatype.\n",
    ">- We will only consider data for members below the age of 80.\n",
    ">- we will chage time to categorical datatype."
   ]
  },
  {
   "cell_type": "code",
   "execution_count": 26,
   "metadata": {},
   "outputs": [],
   "source": [
    "# selecting member_age below 80\n",
    "go_bikes_master= go_bikes_master[go_bikes_master.member_age <= 80]\n",
    "\n",
    "#transform time in part of the day\n",
    "b = [0,4,8,12,13,18,20,22]\n",
    "l = ['Late Night','Early Morning','Morning','Noon','Afternoon','Evening','Night']\n",
    "go_bikes_master['time'] = pd.cut(go_bikes_master['time'], bins=b, labels=l, include_lowest=True)"
   ]
  },
  {
   "cell_type": "code",
   "execution_count": 27,
   "metadata": {},
   "outputs": [
    {
     "data": {
      "text/plain": [
       "Afternoon        66799\n",
       "Morning          38870\n",
       "Early Morning    34619\n",
       "Evening          15645\n",
       "Noon              8092\n",
       "Night             7193\n",
       "Late Night        2164\n",
       "Name: time, dtype: int64"
      ]
     },
     "execution_count": 27,
     "metadata": {},
     "output_type": "execute_result"
    }
   ],
   "source": [
    "#check transformation\n",
    "go_bikes_master.time.value_counts()"
   ]
  },
  {
   "cell_type": "code",
   "execution_count": 28,
   "metadata": {},
   "outputs": [],
   "source": [
    "#changing datatype of time to categorical\n",
    "go_bikes_master.time = go_bikes_master.time.astype('category')"
   ]
  },
  {
   "cell_type": "code",
   "execution_count": 29,
   "metadata": {},
   "outputs": [
    {
     "name": "stdout",
     "output_type": "stream",
     "text": [
      "<class 'pandas.core.frame.DataFrame'>\n",
      "Int64Index: 174955 entries, 0 to 175146\n",
      "Data columns (total 13 columns):\n",
      " #   Column                   Non-Null Count   Dtype         \n",
      "---  ------                   --------------   -----         \n",
      " 0   duration_sec             174955 non-null  int64         \n",
      " 1   start_time               174955 non-null  datetime64[ns]\n",
      " 2   end_time                 174955 non-null  datetime64[ns]\n",
      " 3   start_station_id         174760 non-null  float64       \n",
      " 4   start_station_name       174760 non-null  object        \n",
      " 5   end_station_id           174760 non-null  float64       \n",
      " 6   end_station_name         174760 non-null  object        \n",
      " 7   user_type                174955 non-null  category      \n",
      " 8   member_gender            174955 non-null  category      \n",
      " 9   bike_share_for_all_trip  174955 non-null  object        \n",
      " 10  member_age               174955 non-null  int64         \n",
      " 11  weekday                  174955 non-null  category      \n",
      " 12  time                     173382 non-null  category      \n",
      "dtypes: category(4), datetime64[ns](2), float64(2), int64(2), object(3)\n",
      "memory usage: 14.0+ MB\n"
     ]
    }
   ],
   "source": [
    "#checking changes\n",
    "go_bikes_master.info()"
   ]
  },
  {
   "cell_type": "code",
   "execution_count": 30,
   "metadata": {},
   "outputs": [],
   "source": [
    "#Storing new dataset for further use in part 2\n",
    "go_bikes_master.to_csv('master.csv', index=False, encoding='utf-8')"
   ]
  },
  {
   "cell_type": "markdown",
   "metadata": {},
   "source": [
    ">We will now look at the time distributions given our new adjustment."
   ]
  },
  {
   "cell_type": "code",
   "execution_count": 31,
   "metadata": {},
   "outputs": [
    {
     "data": {
      "image/png": "[encoded data removed]",
      "text/plain": [
       "<Figure size 864x432 with 1 Axes>"
      ]
     },
     "metadata": {
      "needs_background": "light"
     },
     "output_type": "display_data"
    }
   ],
   "source": [
    "plt.figure(figsize=[12,6])\n",
    "\n",
    "sb.countplot(data = go_bikes_master, x = 'time', color = base_color)\n",
    "\n",
    "plt.show()\n",
    "\n"
   ]
  },
  {
   "cell_type": "markdown",
   "metadata": {},
   "source": [
    ">From the above we clearly see that a greater majority make use of the service in the afternoon."
   ]
  },
  {
   "cell_type": "code",
   "execution_count": 32,
   "metadata": {},
   "outputs": [],
   "source": [
    "# reset index after selecting and slicing the data to reduce errors later on\n",
    "go_bikes_master.reset_index(drop=True, inplace=True)"
   ]
  },
  {
   "cell_type": "markdown",
   "metadata": {},
   "source": [
    "### Discuss the distribution(s) of your variable(s) of interest. Were there any unusual points? Did you need to perform any transformations?\n",
    ">First the majority of users are subscribers(91%).\n",
    ">\n",
    ">Duration took a large range of values,so a log transformation was used for the data.\n",
    ">\n",
    "> The variable age have some outliers. In order to allow the plots to show the trends clearly, we have removed them from our dataset. The outliers could be caused by incorrect data entry.\n",
    "\n",
    "The duration variable has a large range, we plot it on a log scale to examine it. Under the log transformation, we observed a unimodal distribution.\n",
    "\n",
    "\n",
    "\n",
    "### Of the features you investigated, were there any unusual distributions? Did you perform any operations on the data to tidy, adjust, or change the form of the data? If so, why did you do this?\n",
    "\n",
    "> the time variable has been categorised into the periods in a day in other to better comprehen the distribution of this variable.\n",
    ">\n",
    ">Also the member age variables was trimmed in other to get rid of outliers."
   ]
  },
  {
   "cell_type": "markdown",
   "metadata": {},
   "source": [
    "## Bivariate Exploration\n",
    "\n",
    "> We will begin by looking at the correlation between variables."
   ]
  },
  {
   "cell_type": "code",
   "execution_count": 33,
   "metadata": {},
   "outputs": [
    {
     "data": {
      "image/png": "[encoded data removed]",
      "text/plain": [
       "<Figure size 720x360 with 2 Axes>"
      ]
     },
     "metadata": {
      "needs_background": "light"
     },
     "output_type": "display_data"
    }
   ],
   "source": [
    "#use a heat map to depict the relationship between duration and age.\n",
    "plt.figure(figsize=[10,5])\n",
    "bins_y = np.arange(500, 6500+1, 1000)\n",
    "bins_x = np.arange(-5, 85+1, 10)\n",
    "plt.hist2d(data = go_bikes_master, x = 'member_age', y='duration_sec',\n",
    "           bins = [bins_x, bins_y], cmap ='Blues')\n",
    "plt.colorbar(ticks=[1e4, 2e4, 3e4, 4e4])\n",
    "plt.show()"
   ]
  },
  {
   "cell_type": "markdown",
   "metadata": {},
   "source": [
    "> The relationship between the two variables is negative. Visualization shows that the longest trips were made by people aged 25 to 35 years. As we already know, this age group is the most popular among users.\n",
    ">\n",
    ">Let's look at the relationship between the numeric variables - duration of the trip and categorical variables - user type"
   ]
  },
  {
   "cell_type": "code",
   "execution_count": 34,
   "metadata": {},
   "outputs": [
    {
     "data": {
      "image/png": "[encoded data removed]",
      "text/plain": [
       "<Figure size 720x360 with 1 Axes>"
      ]
     },
     "metadata": {
      "needs_background": "light"
     },
     "output_type": "display_data"
    }
   ],
   "source": [
    "fig, ax = plt.subplots(figsize = (10,5))\n",
    "sb.boxplot(data=go_bikes_master, x='user_type', y='duration_sec', color=base_color)\n",
    "plt.ylim([0, 3e3])\n",
    "plt.title('Boxplot of Duration against User type', y=1.03, fontsize=14, fontweight='semibold')\n",
    "plt.show()"
   ]
  },
  {
   "cell_type": "code",
   "execution_count": 35,
   "metadata": {},
   "outputs": [
    {
     "data": {
      "image/png": "[encoded data removed]",
      "text/plain": [
       "<Figure size 720x576 with 1 Axes>"
      ]
     },
     "metadata": {
      "needs_background": "light"
     },
     "output_type": "display_data"
    }
   ],
   "source": [
    "#let's create bar chart with the average duration of trips\n",
    "ax = go_bikes_master.groupby('user_type')['duration_sec'].mean().plot(kind='bar', figsize=(10,8))\n",
    "ax.set_title('Average Trip Duration per User type', fontsize=22, y=1.015)\n",
    "ax.set_ylabel('User Type', labelpad=8)\n",
    "ax.set_xlabel('Duration (s)', labelpad=10);"
   ]
  },
  {
   "cell_type": "markdown",
   "metadata": {},
   "source": [
    ">The above visualization shows that on average, customers took longer duration trips\n",
    ">\n",
    ">Let's now look at the relationship between members age and user type."
   ]
  },
  {
   "cell_type": "code",
   "execution_count": 36,
   "metadata": {},
   "outputs": [
    {
     "data": {
      "image/png": "[encoded data removed]",
      "text/plain": [
       "<Figure size 720x360 with 1 Axes>"
      ]
     },
     "metadata": {
      "needs_background": "light"
     },
     "output_type": "display_data"
    }
   ],
   "source": [
    "fig, ax = plt.subplots(figsize = (10,5))\n",
    "sb.boxplot(data=go_bikes_master, x='user_type', y='member_age', color=base_color)\n",
    "plt.ylim([0, 65])\n",
    "plt.title('Boxplot of Age against User type', y=1.03, fontsize=14, fontweight='semibold')\n",
    "plt.show()"
   ]
  },
  {
   "cell_type": "markdown",
   "metadata": {},
   "source": [
    ">Both user groups seem to have a similar age distribution with a mean around 32 years.\n",
    ">\n",
    ">We will now see how the Users make use of the service during days of the week."
   ]
  },
  {
   "cell_type": "code",
   "execution_count": 42,
   "metadata": {},
   "outputs": [
    {
     "data": {
      "image/png": "[encoded data removed]",
      "text/plain": [
       "<Figure size 720x360 with 2 Axes>"
      ]
     },
     "metadata": {
      "needs_background": "light"
     },
     "output_type": "display_data"
    }
   ],
   "source": [
    "#let's plot the difference in the use of the service during the week\n",
    "\n",
    "#Barplot fuction for plotting variabkles for various user types\n",
    "def barplot(xaxis,xlabel,gtitle):\n",
    "    g = sb.catplot(data=go_bikes_master, x=xaxis, col='user_type', kind='count', sharex = True, sharey = False,\n",
    "            color = base_color)\n",
    "\n",
    "    g.set_axis_labels(xlabel, 'Number of Bike Trips')\n",
    "\n",
    "    g.set_titles(\"{col_name}\")\n",
    "\n",
    "    g.fig.suptitle(gtitle, \n",
    "               y=1.03, fontsize=14, fontweight='semibold')\n",
    "\n",
    "    g.set_xticklabels(rotation=90)\n",
    "\n",
    "    g.set(ylim=(0, 4e4));\n",
    "\n",
    "    \n",
    "barplot('weekday','Day','Using The Bike Sharing Service by Users During a Week')"
   ]
  },
  {
   "cell_type": "code",
   "execution_count": 35,
   "metadata": {},
   "outputs": [
    {
     "data": {
      "image/png": "[encoded data removed]",
      "text/plain": [
       "<Figure size 720x360 with 1 Axes>"
      ]
     },
     "metadata": {
      "needs_background": "light"
     },
     "output_type": "display_data"
    }
   ],
   "source": [
    "#Getting a closer look at the customer distribution\n",
    "n_time_cust = go_bikes_master.groupby(['weekday', 'user_type']).size()\n",
    "n_time_cust = n_time_cust.reset_index(name='count')\n",
    "n_time_cust = n_time_cust.pivot(index = 'weekday', columns = 'user_type', values = 'count')\n",
    "n_time_cust=n_time_cust.reset_index()\n",
    "\n",
    "plt.figure(figsize = (10,5))\n",
    "sb.barplot(data=n_time_cust, x='weekday', y='Customer', color=base_color)\n",
    "plt.title('Using The Bike Sharing Service by Customer During a week', \n",
    "               y=1.03, fontsize=14, fontweight='semibold')\n",
    "plt.show()"
   ]
  },
  {
   "cell_type": "markdown",
   "metadata": {},
   "source": [
    ">Subscribers most often used the service on working days, in contrast to customers who used the service throughout  a week. Interestingly, both groups used the service most on Thursday.\n",
    ">\n",
    ">We will now look at the how users use the service during a day."
   ]
  },
  {
   "cell_type": "code",
   "execution_count": 44,
   "metadata": {},
   "outputs": [
    {
     "data": {
      "image/png": "[encoded data removed]",
      "text/plain": [
       "<Figure size 720x360 with 2 Axes>"
      ]
     },
     "metadata": {
      "needs_background": "light"
     },
     "output_type": "display_data"
    }
   ],
   "source": [
    "#let's plot the difference in the use of the service during the day\n",
    "barplot('time','Time','Using The Bike Sharing Service by Users During a Day')"
   ]
  },
  {
   "cell_type": "code",
   "execution_count": 159,
   "metadata": {},
   "outputs": [
    {
     "data": {
      "image/png": "[encoded data removed]",
      "text/plain": [
       "<Figure size 720x360 with 1 Axes>"
      ]
     },
     "metadata": {
      "needs_background": "light"
     },
     "output_type": "display_data"
    }
   ],
   "source": [
    "#Getting a closer look at the customer distribution\n",
    "n_time_cust = go_bikes_master.groupby(['time', 'user_type']).size()\n",
    "n_time_cust = n_time_cust.reset_index(name='count')\n",
    "n_time_cust = n_time_cust.pivot(index = 'time', columns = 'user_type', values = 'count')\n",
    "n_time_cust=n_time_cust.reset_index()\n",
    "\n",
    "plt.figure(figsize = (10,5))\n",
    "sb.barplot(data=n_time_cust, x='time', y='Customer', color=base_color)\n",
    "plt.title('Using The Bike Sharing Service by Customer During a Day', \n",
    "               y=1.03, fontsize=14, fontweight='semibold')\n",
    "plt.show()"
   ]
  },
  {
   "cell_type": "markdown",
   "metadata": {},
   "source": [
    ">As we already know, subscribers exceed the number of non-subscribers users, as we can see in the graphs above. Both groups mostly use the services in the afternoon, very few use it at late nights.\n",
    ">\n",
    ">Now let's explore user type by gender"
   ]
  },
  {
   "cell_type": "code",
   "execution_count": 160,
   "metadata": {},
   "outputs": [
    {
     "data": {
      "image/png": "[encoded data removed]",
      "text/plain": [
       "<Figure size 576x720 with 1 Axes>"
      ]
     },
     "metadata": {
      "needs_background": "light"
     },
     "output_type": "display_data"
    }
   ],
   "source": [
    "plt.figure(figsize = [8, 10])\n",
    "sb.countplot(data = go_bikes_master, x = 'member_gender', hue = 'user_type', palette = 'Blues')\n",
    "plt.title('Users Type by Gender', fontsize= 20)\n",
    "plt.show()"
   ]
  },
  {
   "cell_type": "markdown",
   "metadata": {},
   "source": [
    ">For all user types, the majority are subscribers"
   ]
  },
  {
   "cell_type": "markdown",
   "metadata": {},
   "source": [
    "### Talk about some of the relationships you observed in this part of the investigation. How did the feature(s) of interest vary with other features in the dataset?\n",
    "\n",
    "> Customers use the service for longer duration than subscribers. Perhaps subscribers use them more during week days possibly for daily activities like work. Also they two grtoups mostly use tghe service in the afternoon and thursday has an overall higest record of usage for both user groups.\n",
    "### Did you observe any interesting relationships between the other features (not the main feature(s) of interest)?\n",
    "\n",
    "> People between the ages of 25-35 took the longest trips for both groups"
   ]
  },
  {
   "cell_type": "markdown",
   "metadata": {},
   "source": [
    "## Multivariate Exploration\n",
    "\n",
    "> In this section we will futher analyse the impact of the user type and age on the the relationship between duration and time.\n",
    ">\n",
    ">We will focus on the age group which is more popular thaat is between 20 and 50."
   ]
  },
  {
   "cell_type": "code",
   "execution_count": 161,
   "metadata": {},
   "outputs": [],
   "source": [
    "# select dataset for member aged between 20 to 50\n",
    "df_flag = ((go_bikes_master['member_age'] >= 20) & (go_bikes_master['member_age'] <= 50))\n",
    "df_plot = go_bikes_master.loc[df_flag,:]"
   ]
  },
  {
   "cell_type": "code",
   "execution_count": 162,
   "metadata": {},
   "outputs": [
    {
     "data": {
      "image/png": "[encoded data removed]",
      "text/plain": [
       "<Figure size 576x432 with 1 Axes>"
      ]
     },
     "metadata": {
      "needs_background": "light"
     },
     "output_type": "display_data"
    }
   ],
   "source": [
    "# setting the figure size\n",
    "fig = plt.figure(figsize = [8,6])\n",
    "# point plot of age against duration with user_type\n",
    "ax = sb.pointplot(data = df_plot, x = 'member_age', y = 'duration_sec', hue = 'user_type',\n",
    "                  palette = 'Purples', linestyles = '', dodge = 0.4)\n",
    "plt.title('Duration of use for GoBike users aged between 20-50')\n",
    "plt.ylabel('Duration (s)')\n",
    "plt.xlabel('Age')\n",
    "ax.set_yticklabels([],minor = True)\n",
    "plt.show();"
   ]
  },
  {
   "cell_type": "markdown",
   "metadata": {},
   "source": [
    ">A point plot to illustrate differences between user behaviour of customer and subscriber over the selected age group.\n",
    ">\n",
    ">We can see that age does not play a big factor in determining the usage duration of GoBike. Instead, there is a significant differnce in the usage duration between subscriber and customer. Subscriber generally uses GoBike for shorter distance and duration whereas customer uses GoBike for duration."
   ]
  },
  {
   "cell_type": "code",
   "execution_count": 163,
   "metadata": {},
   "outputs": [
    {
     "data": {
      "image/png": "[encoded data removed]",
      "text/plain": [
       "<Figure size 576x432 with 1 Axes>"
      ]
     },
     "metadata": {
      "needs_background": "light"
     },
     "output_type": "display_data"
    }
   ],
   "source": [
    "fig = plt.figure(figsize = [8,6])\n",
    "ax = sb.pointplot(data = df_plot, x = 'weekday', y = 'duration_sec', hue = 'user_type',\n",
    "                  palette = 'Blues', linestyles = '', dodge = 0.4)\n",
    "plt.title('Duration of use for GoBike users in days of the week')\n",
    "plt.ylabel('Duration (s)')\n",
    "plt.xlabel('Days of the week')\n",
    "ax.set_yticklabels([],minor = True)\n",
    "plt.show();"
   ]
  },
  {
   "cell_type": "markdown",
   "metadata": {},
   "source": [
    ">Point plot to show different behaviours throughout the week for subscribers and customers.\n",
    ">\n",
    ">Interesting observation that the duration of GoBike usage increases over the weekend for both subscriber and customer. This indicates that users generally uses GoBike for non-commute transportation purposes.\n",
    "\n",
    "\n",
    "\n"
   ]
  },
  {
   "cell_type": "markdown",
   "metadata": {},
   "source": [
    "### Talk about some of the relationships you observed in this part of the investigation. Were there features that strengthened each other in terms of looking at your feature(s) of interest?\n",
    "\n",
    "> Multivariate charts have strengthened the previously observed relationships. Subscribers most often used the service on weekdays (especially in the afternoon), and customers took trips for longer durations. It was almost unaffected by gender.\n",
    "\n",
    "### Were there any interesting or surprising interactions between features?\n",
    "\n",
    "> The duration of trips was longer on weekends."
   ]
  },
  {
   "cell_type": "markdown",
   "metadata": {},
   "source": [
    "## Conclusions\n",
    ">1. Most users of Ford GoBike service are subscribers (91%);\n",
    "\n",
    "\n",
    ">2. The majority of users are men both among subscribers and customers;\n",
    "\n",
    "\n",
    ">3. The majority of users are people between the ages of 25 and 35, both among subscribers and customers;\n",
    "\n",
    "\n",
    ">4. Subscribers mostly use the service during the working week, especially in the afternoon, while customers use the service throughout the week,and for longer durations. On weekends, the overall duration of trips are longer. Perhaps subscribers used the service to travel to work or at work, and customers for entertainment. It is worth noting that the trips of customers on average lasted much longer."
   ]
  }
 ],
 "metadata": {
  "kernelspec": {
   "display_name": "Python 3 (ipykernel)",
   "language": "python",
   "name": "python3"
  },
  "language_info": {
   "codemirror_mode": {
    "name": "ipython",
    "version": 3
   },
   "file_extension": ".py",
   "mimetype": "text/x-python",
   "name": "python",
   "nbconvert_exporter": "python",
   "pygments_lexer": "ipython3",
   "version": "3.9.12"
  }
 },
 "nbformat": 4,
 "nbformat_minor": 2
}
